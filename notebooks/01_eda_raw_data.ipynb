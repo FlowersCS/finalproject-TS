{
 "cells": [
  {
   "cell_type": "code",
   "execution_count": 2,
   "id": "39a6a858",
   "metadata": {},
   "outputs": [],
   "source": [
    "import pandas as pd\n",
    "import csv\n",
    "import os\n",
    "import seaborn as sns\n",
    "import numpy as np\n",
    "import matplotlib.pyplot as plt\n",
    "\n",
    "from datetime import datetime"
   ]
  },
  {
   "cell_type": "code",
   "execution_count": 3,
   "id": "f342417c",
   "metadata": {},
   "outputs": [],
   "source": [
    "project_root = os.path.dirname(os.getcwd())\n",
    "data_path = os.path.join(project_root,'data')\n",
    "raw_path = data_path + '/raw'\n",
    "interim_path = data_path + '/interim/'"
   ]
  },
  {
   "cell_type": "markdown",
   "id": "8ab11ea2",
   "metadata": {},
   "source": [
    "# Convert text to csv"
   ]
  },
  {
   "cell_type": "code",
   "execution_count": null,
   "id": "0ec70ca8",
   "metadata": {},
   "outputs": [],
   "source": [
    "with open(raw_path+'/datos.txt', 'r') as in_file:\n",
    "        stripped = (line.strip() for line in in_file)\n",
    "        lines = (line.split(\",\") for line in stripped if line)\n",
    "        with open(raw_path+'/datos.csv','w') as out_file:\n",
    "            writer = csv.writer(out_file)\n",
    "            writer.writerow(('id_person','activity','timestamp','x','y','z'))\n",
    "            writer.writerows(lines)"
   ]
  },
  {
   "cell_type": "markdown",
   "id": "60ce6319",
   "metadata": {},
   "source": [
    "# Preprocessing"
   ]
  },
  {
   "cell_type": "code",
   "execution_count": null,
   "id": "d50b28b8",
   "metadata": {},
   "outputs": [],
   "source": [
    "ts = 49105962326000\n",
    "# Convert microseconds to seconds\n",
    "date_time = datetime.fromtimestamp(ts / 1_000_000)\n",
    "str_date_time = date_time.strftime(\"%d-%m-%Y, %H:%M:%S\")\n",
    "print(\"Result 1:\", str_date_time)\n",
    "\n",
    "str_date = date_time.strftime(\"%d %B, %Y\")\n",
    "print(\"Result 2:\", str_date)\n",
    "\n",
    "str_time = date_time.strftime(\"%I%p %M:%S\")\n",
    "print(\"Result 3:\", str_time)"
   ]
  },
  {
   "cell_type": "code",
   "execution_count": null,
   "id": "f97c848c",
   "metadata": {},
   "outputs": [],
   "source": [
    "def column_summary(df):\n",
    "    summary_data = []\n",
    "    \n",
    "    for col_name in df.columns:\n",
    "        col_dtype = df[col_name].dtype\n",
    "        num_of_nulls = df[col_name].isnull().sum()\n",
    "        num_of_non_nulls = df[col_name].notnull().sum()\n",
    "        num_of_distinct_values = df[col_name].nunique()\n",
    "        \n",
    "        if num_of_distinct_values <= 10:\n",
    "            distinct_values_counts = df[col_name].value_counts().to_dict()\n",
    "        else:\n",
    "            top_10_values_counts = df[col_name].value_counts().head(10).to_dict()\n",
    "            distinct_values_counts = {k: v for k, v in sorted(top_10_values_counts.items(), key=lambda item: item[1], reverse=True)}\n",
    "\n",
    "        summary_data.append({\n",
    "            'col_name': col_name,\n",
    "            'col_dtype': col_dtype,\n",
    "            'num_of_nulls': num_of_nulls,\n",
    "            'num_of_non_nulls': num_of_non_nulls,\n",
    "            'num_of_distinct_values': num_of_distinct_values,\n",
    "            'distinct_values_counts': distinct_values_counts\n",
    "        })\n",
    "    \n",
    "    summary_df = pd.DataFrame(summary_data)\n",
    "    return summary_df"
   ]
  },
  {
   "cell_type": "code",
   "execution_count": null,
   "id": "72c590d0",
   "metadata": {},
   "outputs": [],
   "source": [
    "data = raw_path + '/datos.csv'\n",
    "df = pd.read_csv(data)"
   ]
  },
  {
   "cell_type": "code",
   "execution_count": null,
   "id": "ef0ecf61",
   "metadata": {},
   "outputs": [],
   "source": [
    "df['timestamp'] = pd.to_datetime(df['timestamp'] / 1_000_000, unit='s').dt.strftime(\"%d-%m-%Y, %H:%M:%S\")"
   ]
  },
  {
   "cell_type": "code",
   "execution_count": null,
   "id": "c1691896",
   "metadata": {},
   "outputs": [],
   "source": [
    "summary_df = column_summary(df)\n",
    "display(summary_df)"
   ]
  },
  {
   "cell_type": "code",
   "execution_count": null,
   "id": "cb84a3a6",
   "metadata": {},
   "outputs": [],
   "source": [
    "df[df['z'].isnull()].index"
   ]
  },
  {
   "cell_type": "code",
   "execution_count": null,
   "id": "5ac98fac",
   "metadata": {},
   "outputs": [],
   "source": [
    "# ordenardo por persona,actividad y timestamp. Rellenar los nulos con la media \n",
    "df = df.sort_values(by=['id_person', 'activity', 'timestamp'])\n",
    "df['z'] = df.groupby(['id_person', 'activity'])['z'].transform(lambda x: x.fillna(x.mean()))"
   ]
  },
  {
   "cell_type": "code",
   "execution_count": null,
   "id": "0cca0524",
   "metadata": {},
   "outputs": [],
   "source": [
    "df"
   ]
  },
  {
   "cell_type": "code",
   "execution_count": null,
   "id": "837fc31e",
   "metadata": {},
   "outputs": [],
   "source": [
    "df.info()"
   ]
  },
  {
   "cell_type": "code",
   "execution_count": null,
   "id": "7f0cce46",
   "metadata": {},
   "outputs": [],
   "source": [
    "df.to_csv(interim_path+'/datos.csv')"
   ]
  },
  {
   "cell_type": "code",
   "execution_count": 6,
   "id": "1f99d0d1",
   "metadata": {},
   "outputs": [],
   "source": [
    "df = pd.read_csv(interim_path+'/datos.csv')"
   ]
  },
  {
   "cell_type": "markdown",
   "id": "c1b90b04",
   "metadata": {},
   "source": [
    "# EDA"
   ]
  },
  {
   "cell_type": "markdown",
   "id": "4fe43c11",
   "metadata": {},
   "source": [
    "## ACF"
   ]
  },
  {
   "cell_type": "code",
   "execution_count": 4,
   "id": "9eec4b45",
   "metadata": {},
   "outputs": [],
   "source": [
    "from statsmodels.tsa.stattools import adfuller"
   ]
  },
  {
   "cell_type": "code",
   "execution_count": 7,
   "id": "3eb94ceb",
   "metadata": {},
   "outputs": [
    {
     "name": "stdout",
     "output_type": "stream",
     "text": [
      "--- ADF para x ---\n",
      "ADF Statistic: -2.0973056208602134\n",
      "p-value: 0.245599404269429\n",
      "Critical Values: {'1%': np.float64(-3.431006330034765), '5%': np.float64(-2.861830058724424), '10%': np.float64(-2.566924393122448)}\n",
      "La serie x NO es estacionaria (no rechaza H0)\n",
      "\n",
      "--- ADF para y ---\n",
      "ADF Statistic: -1.474682872878384\n",
      "p-value: 0.5459961273701855\n",
      "Critical Values: {'1%': np.float64(-3.4310064618089995), '5%': np.float64(-2.8618301169543403), '10%': np.float64(-2.5669244241183153)}\n",
      "La serie y NO es estacionaria (no rechaza H0)\n",
      "\n",
      "--- ADF para z ---\n",
      "ADF Statistic: -11.837747416251458\n",
      "p-value: 7.718552416406816e-22\n",
      "Critical Values: {'1%': np.float64(-3.4310065936361585), '5%': np.float64(-2.861830175207641), '10%': np.float64(-2.5669244551266304)}\n",
      "La serie z es estacionaria (rechaza H0)\n",
      "\n"
     ]
    }
   ],
   "source": [
    "for axis in ['x', 'y', 'z']:\n",
    "    serie = df[axis].dropna().values[:10000]  # Solo los primeros 10,000 datos\n",
    "    result = adfuller(serie)\n",
    "    print(f\"--- ADF para {axis} ---\")\n",
    "    print(f\"ADF Statistic: {result[0]}\")\n",
    "    print(f\"p-value: {result[1]}\")\n",
    "    print(f\"Critical Values: {result[4]}\")\n",
    "    if result[1] < 0.05:\n",
    "        print(f\"La serie {axis} es estacionaria (rechaza H0)\")\n",
    "    else:\n",
    "        print(f\"La serie {axis} NO es estacionaria (no rechaza H0)\")\n",
    "    print()"
   ]
  },
  {
   "cell_type": "markdown",
   "id": "1a7c755c",
   "metadata": {},
   "source": [
    "## XYZ"
   ]
  },
  {
   "cell_type": "code",
   "execution_count": null,
   "id": "e8397947",
   "metadata": {},
   "outputs": [],
   "source": [
    "print(df[['x', 'y', 'z']].describe())"
   ]
  },
  {
   "cell_type": "code",
   "execution_count": null,
   "id": "5843c59f",
   "metadata": {},
   "outputs": [],
   "source": [
    "sns.boxplot(data=df[['x', 'y', 'z']])"
   ]
  },
  {
   "cell_type": "markdown",
   "id": "eed0320d",
   "metadata": {},
   "source": [
    "## xyz por activity"
   ]
  },
  {
   "cell_type": "code",
   "execution_count": null,
   "id": "2948ba84",
   "metadata": {},
   "outputs": [],
   "source": [
    "df.groupby('activity')[['x', 'y', 'z']].mean().plot(kind='bar')"
   ]
  },
  {
   "cell_type": "code",
   "execution_count": null,
   "id": "8a267115",
   "metadata": {},
   "outputs": [],
   "source": [
    "df['magnitud'] = np.sqrt(df['x']**2 + df['y']**2 + df['z']**2)"
   ]
  },
  {
   "cell_type": "code",
   "execution_count": null,
   "id": "88d6fdf9",
   "metadata": {},
   "outputs": [],
   "source": [
    "df"
   ]
  },
  {
   "cell_type": "code",
   "execution_count": null,
   "id": "610f4273",
   "metadata": {},
   "outputs": [],
   "source": [
    "print(df['activity'].value_counts()) \n",
    "sns.countplot(data=df, y='activity')"
   ]
  },
  {
   "cell_type": "code",
   "execution_count": null,
   "id": "11cd3b47",
   "metadata": {},
   "outputs": [],
   "source": [
    "df['z'][343419]"
   ]
  },
  {
   "cell_type": "code",
   "execution_count": null,
   "id": "90d6eaea",
   "metadata": {},
   "outputs": [],
   "source": [
    "# Identify numerical columns\n",
    "numerical_columns = df.select_dtypes(include=[np.number]).columns\n",
    "\n",
    "# Perform univariate analysis on numerical columns\n",
    "for column in numerical_columns:\n",
    "    # For continuous variables\n",
    "    if len(df[column].unique()) > 10:  # Assuming if unique values > 10, consider it continuous\n",
    "        plt.figure(figsize=(8, 6))\n",
    "        sns.histplot(df[column], kde=True)\n",
    "        plt.title(f'Histogram of {column}')\n",
    "        plt.xlabel(column)\n",
    "        plt.ylabel('Frequency')\n",
    "        plt.show()\n",
    "    else:  # For discrete or ordinal variables\n",
    "        plt.figure(figsize=(8, 6))\n",
    "        ax = sns.countplot(x=column, data=df)\n",
    "        plt.title(f'Count of {column}')\n",
    "        plt.xlabel(column)\n",
    "        plt.ylabel('Count')\n",
    "        \n",
    "        # Annotate each bar with its count\n",
    "        for p in ax.patches:\n",
    "            ax.annotate(format(p.get_height(), '.0f'), \n",
    "                        (p.get_x() + p.get_width() / 2., p.get_height()), \n",
    "                        ha = 'center', va = 'center', \n",
    "                        xytext = (0, 5), \n",
    "                        textcoords = 'offset points')\n",
    "        plt.show()"
   ]
  }
 ],
 "metadata": {
  "kernelspec": {
   "display_name": "venv",
   "language": "python",
   "name": "python3"
  },
  "language_info": {
   "codemirror_mode": {
    "name": "ipython",
    "version": 3
   },
   "file_extension": ".py",
   "mimetype": "text/x-python",
   "name": "python",
   "nbconvert_exporter": "python",
   "pygments_lexer": "ipython3",
   "version": "3.10.12"
  }
 },
 "nbformat": 4,
 "nbformat_minor": 5
}
